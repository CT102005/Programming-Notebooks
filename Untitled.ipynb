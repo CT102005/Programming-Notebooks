{
 "cells": [
  {
   "cell_type": "code",
   "execution_count": 1,
   "id": "b839a78e-74d7-4324-8ac2-c42bb335a6fe",
   "metadata": {},
   "outputs": [
    {
     "name": "stdout",
     "output_type": "stream",
     "text": [
      "What is the colour of the [bold italic red]sun[/bold italic red]? \n"
     ]
    },
    {
     "name": "stdin",
     "output_type": "stream",
     "text": [
      " yellow\n"
     ]
    },
    {
     "name": "stdout",
     "output_type": "stream",
     "text": [
      "YOU GOT IT RIGHT!\n"
     ]
    }
   ],
   "source": [
    "questions = [\n",
    "    [\"What is the colour of the [bold italic red]sun[/bold italic red]? \", \"yellow\"]\n",
    "]\n",
    "\n",
    "# For each question, print it out and ask the user to answer\n",
    "for question in questions:\n",
    "    # Print the question\n",
    "    print(question[0])\n",
    "\n",
    "    # Get the user's answer\n",
    "    user_answer = input().lower().strip(\",..?!\")\n",
    "\n",
    "    # See if they're correct\n",
    "    if user_answer == question[1]:\n",
    "        print(\"YOU GOT IT RIGHT!\")\n",
    "    else:\n",
    "        print(\"SOWWWWWIE... You DEAD.\")"
   ]
  },
  {
   "cell_type": "code",
   "execution_count": null,
   "id": "55346bce-3fc2-441c-94ca-91abb55eca91",
   "metadata": {},
   "outputs": [],
   "source": []
  }
 ],
 "metadata": {
  "kernelspec": {
   "display_name": "Python 3 (ipykernel)",
   "language": "python",
   "name": "python3"
  },
  "language_info": {
   "codemirror_mode": {
    "name": "ipython",
    "version": 3
   },
   "file_extension": ".py",
   "mimetype": "text/x-python",
   "name": "python",
   "nbconvert_exporter": "python",
   "pygments_lexer": "ipython3",
   "version": "3.8.9"
  }
 },
 "nbformat": 4,
 "nbformat_minor": 5
}
