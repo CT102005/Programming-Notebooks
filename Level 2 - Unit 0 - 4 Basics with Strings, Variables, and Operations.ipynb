{
 "cells": [
  {
   "cell_type": "markdown",
   "metadata": {},
   "source": [
    "# Unit 0.4 - Basics"
   ]
  },
  {
   "cell_type": "markdown",
   "metadata": {},
   "source": [
    "# Strings and f-strings\n",
    "Strings are a datatype that are a collection of characters.\n",
    "We use'\"' (double quotes) to surround our strings\n",
    "## What does f stand for?\n",
    "\n",
    "F stands for **fast**."
   ]
  },
  {
   "cell_type": "code",
   "execution_count": 1,
   "metadata": {},
   "outputs": [
    {
     "name": "stdout",
     "output_type": "stream",
     "text": [
      "This is a regular string.\n",
      "This is a fast string.\n",
      "You can do maths in f-strings.\n",
      "You can do math inside braces: 69\n",
      "Do math the old way: 21\n"
     ]
    }
   ],
   "source": [
    "print(\"This is a regular string.\")\n",
    "\n",
    "print(f\"This is a fast string.\")\n",
    "print(f\"You can do maths in f-strings.\")\n",
    "print(f\"You can do math inside braces: {83-14}\")\n",
    "print(\"Do math the old way: \" + str(1+20) )"
   ]
  },
  {
   "cell_type": "markdown",
   "metadata": {},
   "source": [
    "## Operations in f-strings\n",
    "We use {} or **braces** to evaluate expressions inside of f-strings.\n",
    "\n",
    "### Using the Math Module\n",
    "We can import the Math module to help us calculate things\n",
    "\n",
    "https://docs.python.org/3/library/math.html\n"
   ]
  },
  {
   "cell_type": "code",
   "execution_count": 6,
   "metadata": {},
   "outputs": [
    {
     "name": "stdout",
     "output_type": "stream",
     "text": [
      "0.0\n",
      "The GCD of 10 and 688 is 2\n",
      "The square root of 24 is 4.898979485566356\n"
     ]
    }
   ],
   "source": [
    "# print(1 + 1)\n",
    "\n",
    "import math    #allows us to USE math by loading the module\n",
    "print(math.sin(0))\n",
    "print(f\"The GCD of 10 and 688 is {math.gcd(10, 688)}\")\n",
    "print(f\"The square root of 24 is {math.sqrt(24)}\")"
   ]
  },
  {
   "cell_type": "markdown",
   "metadata": {},
   "source": [
    "## String Slices"
   ]
  },
  {
   "cell_type": "code",
   "execution_count": 21,
   "metadata": {},
   "outputs": [
    {
     "name": "stdout",
     "output_type": "stream",
     "text": [
      "p\n",
      "p\n",
      "a\n",
      "p\n"
     ]
    }
   ],
   "source": [
    "# Substring\n",
    "#     0123456789\n",
    "s = \"The quick brown fox jumps over the lazy dog.\"\n",
    "print(s[23])\n",
    "print(s[23])\n",
    "print(s[36])\n",
    "print(s[23])"
   ]
  },
  {
   "cell_type": "code",
   "execution_count": 23,
   "metadata": {},
   "outputs": [
    {
     "name": "stdout",
     "output_type": "stream",
     "text": [
      "T\n",
      ".\n",
      ".\n",
      "g\n"
     ]
    }
   ],
   "source": [
    "s = \"The quick brown fox jumps over the lazy dog.\"\n",
    "# First\n",
    "print(s[0])\n",
    "\n",
    "# Last\n",
    "print(s[43])\n",
    "print(s[-1]) #Last character\n",
    "print(s[-2]) #Second to last character"
   ]
  },
  {
   "cell_type": "code",
   "execution_count": 41,
   "metadata": {},
   "outputs": [
    {
     "name": "stdout",
     "output_type": "stream",
     "text": [
      "The\n",
      "quick\n",
      "brown\n",
      "The quick brown\n",
      "fox jumps over the lazy dog.\n",
      "dog.\n",
      "02468\n",
      "13579\n",
      "05\n",
      "97531\n",
      "9876543210\n"
     ]
    }
   ],
   "source": [
    "# Step\n",
    "#    0123\n",
    "s = \"The quick brown fox jumps over the lazy dog.\"\n",
    "#      [first:last:step]\n",
    "print(s[0:3]) # The\n",
    "print(s[4:9]) # Quick\n",
    "print(s[10:15]) #Brown\n",
    "print(s[:15])\n",
    "print(s[16:])\n",
    "print(s[-4:])\n",
    "\n",
    "s = \"0123456789\"\n",
    "print(s[::2])\n",
    "print(s[1::2])\n",
    "print(s[::5])\n",
    "print(s[::-2])\n",
    "print(s[::-1])#reverse string"
   ]
  },
  {
   "cell_type": "code",
   "execution_count": null,
   "metadata": {},
   "outputs": [],
   "source": [
    "name = \"John\"\n",
    "print(f\"Hello {name}.\")\n"
   ]
  },
  {
   "cell_type": "markdown",
   "metadata": {},
   "source": [
    "## Escape Sequences\n",
    "\n",
    "Sequence of characters that have a meaning besides the literal characters."
   ]
  },
  {
   "cell_type": "code",
   "execution_count": 54,
   "metadata": {},
   "outputs": [
    {
     "name": "stdout",
     "output_type": "stream",
     "text": [
      "The is one line.\n",
      "\n",
      "\n",
      "This is another line\n",
      "This is one line.\n",
      "\n",
      "\n",
      "This is another line.\n",
      "First entry\tSecond entry\tThird entry\n",
      "Blah\t\tBlah\t\tBlah\n",
      "The boys said, \"hello.\"\n",
      "The boys said, \"hello.\"\n"
     ]
    }
   ],
   "source": [
    "# \\n - newline\n",
    "print(\"The is one line.\\n\\n\\nThis is another line\")\n",
    "\n",
    "print(\"\"\"This is one line.\n",
    "\n",
    "\n",
    "This is another line.\"\"\")\n",
    "\n",
    "# \\t - tab\n",
    "print(\"First entry\\tSecond entry\\tThird entry\")\n",
    "print(\"Blah\\t\\tBlah\\t\\tBlah\")\n",
    "\n",
    "# \\\" - inserts a literal double quote\n",
    "print(\"The boys said, \\\"hello.\\\"\")\n",
    "print('The boys said, \"hello.\"')"
   ]
  },
  {
   "cell_type": "markdown",
   "metadata": {},
   "source": [
    "# Variables"
   ]
  },
  {
   "cell_type": "markdown",
   "metadata": {},
   "source": [
    "`=` -- assignment operator"
   ]
  },
  {
   "cell_type": "code",
   "execution_count": 55,
   "metadata": {},
   "outputs": [],
   "source": [
    "message = \"Your time is up.\"\n",
    "\n",
    "# How do you properly name variables\n",
    "# Name them starting with a lowercase letter\n",
    "# Use underscores for spaces in names\n",
    "# Names of varibales should be descriptive\n",
    "\n",
    "# e.g Abraham Lincoln's birthday\n",
    "abe_lincolns_birthday = \"February 12, 1809\"\n",
    "a_l_birthday = \"February 12, 1809\" #don't do this\n",
    "\n",
    "# obfuscated code\n",
    "# constants should be named with CAPS\n",
    "MAX_HEALTH = 100\n",
    "MAX_MP     = 150"
   ]
  },
  {
   "cell_type": "markdown",
   "metadata": {},
   "source": [
    "## Reassignment\n",
    "\n",
    "Give an existing variable a new value."
   ]
  },
  {
   "cell_type": "code",
   "execution_count": 56,
   "metadata": {},
   "outputs": [
    {
     "name": "stdout",
     "output_type": "stream",
     "text": [
      "Ubial\n",
      "Bruce Wayne\n"
     ]
    }
   ],
   "source": [
    "# Reassignment\n",
    "name = \"Ubial\"\n",
    "print(name)\n",
    "\n",
    "name = \"Bruce Wayne\"\n",
    "print(name)"
   ]
  },
  {
   "cell_type": "code",
   "execution_count": 60,
   "metadata": {},
   "outputs": [
    {
     "name": "stdout",
     "output_type": "stream",
     "text": [
      "Ubial\n",
      "Candice\n"
     ]
    }
   ],
   "source": [
    "# Assigning a variable to another variable\n",
    "name = \"Ubial\"\n",
    "teacher = name\n",
    "name = \"Candice\"\n",
    "student = name\n",
    "\n",
    "print(teacher)\n",
    "print(student)"
   ]
  },
  {
   "cell_type": "markdown",
   "metadata": {},
   "source": [
    "## Updating Variables\n",
    "\n",
    "Updating the value of a variable"
   ]
  },
  {
   "cell_type": "code",
   "execution_count": 68,
   "metadata": {},
   "outputs": [
    {
     "name": "stdout",
     "output_type": "stream",
     "text": [
      "12\n",
      "11.0\n"
     ]
    }
   ],
   "source": [
    "number_of_hats = 10\n",
    "\n",
    "number_of_hats = number_of_hats + 1\n",
    "\n",
    "number_of_hats += 1 # increment\n",
    "print(number_of_hats)\n",
    "number_of_hats -= 1 # decrement\n",
    "number_of_hats *= 1 # multiply\n",
    "number_of_hats /= 1 # divide\n",
    "\n",
    "print(number_of_hats)\n",
    "# increment, decrement, multiplication, and division"
   ]
  },
  {
   "cell_type": "markdown",
   "metadata": {},
   "source": [
    "## Datatypes\n",
    "### What are some datatypes that we've seen?"
   ]
  },
  {
   "cell_type": "code",
   "execution_count": 5,
   "metadata": {},
   "outputs": [
    {
     "name": "stdout",
     "output_type": "stream",
     "text": [
      "Saturn\n",
      "10\n",
      "15\n"
     ]
    }
   ],
   "source": [
    "# String\n",
    "\"Tim\"\n",
    "# f-strings\n",
    "f\"Ubial\"\n",
    "\n",
    "\n",
    "# OTHER DATATYPES\n",
    "10                # number -> integer (whole)\n",
    "10.0                # number -> float (decimal)\n",
    "\n",
    "False\n",
    "True                                           # boolean values\n",
    "[\"John\", \"Jennifer\", \"William\"]                # list\n",
    "\n",
    "                # dictionary (like a list but key-value pairs)\n",
    "\n",
    "# e.g.     key   : value       key:   value\n",
    "student = {\"name\": \"Saturn\", \"grade\": 10, \"age\": 15}\n",
    "print(student[\"name\"])\n",
    "print(student[\"grade\"])\n",
    "print(student[\"age\"])"
   ]
  },
  {
   "cell_type": "markdown",
   "metadata": {},
   "source": [
    "### Casting\n",
    "What do we do to force Python to look at a string like it's a number?"
   ]
  },
  {
   "cell_type": "code",
   "execution_count": 7,
   "metadata": {},
   "outputs": [
    {
     "name": "stdout",
     "output_type": "stream",
     "text": [
      "21\n",
      "165\n"
     ]
    }
   ],
   "source": [
    "age = \"16\"         # string\n",
    "# add 5 to the age\n",
    "# print(age + 5)     # 5 is an int\n",
    "# use a cast to force a value into another type\n",
    "print(int(age) + 5) # int + int\n",
    "print(age + str(5)) # str + str"
   ]
  },
  {
   "cell_type": "code",
   "execution_count": 17,
   "metadata": {},
   "outputs": [
    {
     "name": "stdout",
     "output_type": "stream",
     "text": [
      "<class 'str'>\n",
      "<class 'int'>\n",
      "<class 'float'>\n",
      "<class 'list'>\n",
      "<class 'dict'>\n",
      "<class 'bool'>\n"
     ]
    }
   ],
   "source": [
    "# type() function\n",
    "age = \"15\"\n",
    "\n",
    "print(type(age))\n",
    "\n",
    "age = 15\n",
    "print(type(age))\n",
    "\n",
    "age = 15.0\n",
    "print(type(age))\n",
    "\n",
    "age = [15.0]\n",
    "print(type(age))\n",
    "\n",
    "age = {\"age\": 15}\n",
    "print(type(age))\n",
    "\n",
    "age = False     #F has to be capital\n",
    "print(type(age))"
   ]
  },
  {
   "cell_type": "code",
   "execution_count": 21,
   "metadata": {},
   "outputs": [
    {
     "name": "stdout",
     "output_type": "stream",
     "text": [
      "BLAAAAAAH!BLAAAAAAH!BLAAAAAAH!BLAAAAAAH!BLAAAAAAH!BLAAAAAAH!BLAAAAAAH!BLAAAAAAH!BLAAAAAAH!BLAAAAAAH!\n",
      "BLAAAAAAH!BLAAAAAAH!\n"
     ]
    }
   ],
   "source": [
    "# Mixing datatypes\n",
    "exclaimation = \"BLAAAAAAH!\"\n",
    "\n",
    "print(exclaimation * 10)\n",
    "print(exclaimation * 2)\n",
    "\n",
    "# print(exclaimation * 10.0) This does not work\n"
   ]
  },
  {
   "cell_type": "code",
   "execution_count": 23,
   "metadata": {},
   "outputs": [
    {
     "ename": "SyntaxError",
     "evalue": "unexpected EOF while parsing (4252154896.py, line 2)",
     "output_type": "error",
     "traceback": [
      "\u001b[0;36m  File \u001b[0;32m\"/var/folders/hh/xtn4jgb53nd5y838zhvy64v40000h1/T/ipykernel_16181/4252154896.py\"\u001b[0;36m, line \u001b[0;32m2\u001b[0m\n\u001b[0;31m    print(e * 1000\u001b[0m\n\u001b[0m                  ^\u001b[0m\n\u001b[0;31mSyntaxError\u001b[0m\u001b[0;31m:\u001b[0m unexpected EOF while parsing\n"
     ]
    }
   ],
   "source": [
    "e = \"rage\"\n",
    "print(e * 1000"
   ]
  },
  {
   "cell_type": "markdown",
   "metadata": {},
   "source": [
    "# Statements and Expressions\n",
    "\n",
    "A **statement** is an instruction that Python can execute.  \n",
    "> Assignment (when we assign a value to a variable) is  \n",
    "a **statement**.\n",
    "\n",
    "> e.g. `date_of_birth = \"January 22\"`\n",
    "\n",
    "An **expression** is a statement that MUST BE EVALUATED.\n",
    "> e.g. `date_of_birth_and_year = date_of_birth + \" 2020\"`"
   ]
  },
  {
   "cell_type": "markdown",
   "metadata": {},
   "source": [
    "# Order of Operations\n",
    "\n",
    "BEDMAS\n",
    "1. Brackets\n",
    "2. Exponents\n",
    "3. Division and Multiplication\n",
    "4. The rest\n",
    "\n",
    "Evaluates from left-to-right, inside-to-ouside"
   ]
  },
  {
   "cell_type": "code",
   "execution_count": 28,
   "metadata": {},
   "outputs": [
    {
     "name": "stdout",
     "output_type": "stream",
     "text": [
      "144.0\n",
      "144\n",
      "144\n",
      "144\n",
      "144\n"
     ]
    }
   ],
   "source": [
    "# E.g.\n",
    "\n",
    "equation = (4 + (23 - 4 + (32 / 2)) * 4)\n",
    "# Evaulation step-by-step\n",
    "equation = (4 + (23 - 4 + (32 / 2)) * 4)\n",
    "equation = (4 + (23 - 4 + 16      ) * 4)\n",
    "equation = (4 + (35               ) * 4)\n",
    "equation = (4 + 140)\n",
    "equation = 144\n",
    "\n",
    "print(4 + (23 - 4 + (32 / 2)) * 4)\n",
    "print(4 + (23 - 4 + 16      ) * 4)\n",
    "print(4 + (35               ) * 4)\n",
    "print(4 + 140)\n",
    "print(144)"
   ]
  },
  {
   "cell_type": "code",
   "execution_count": 45,
   "metadata": {},
   "outputs": [
    {
     "name": "stdout",
     "output_type": "stream",
     "text": [
      "27\n",
      "3.3333333333333335\n",
      "3\n",
      "1\n",
      "2\n",
      "\n",
      "0\n",
      "1\n",
      "0\n",
      "1\n",
      "0\n",
      "1\n",
      "0\n"
     ]
    }
   ],
   "source": [
    "# Other Operators\n",
    "\n",
    "# Exponents **\n",
    "# e.g. 3 ^ 3\n",
    "print(3 ** 3)\n",
    "\n",
    "# Floor division // (gives the result in an int)\n",
    "print(10 / 3)\n",
    "print(10 // 3)\n",
    "\n",
    "# Find the remainder % Modulo\n",
    "print(10 % 3) #3 remainder of 1\n",
    "print(11 % 3) #3 remainder of 2\n",
    "\n",
    "# e.g. use of Modulo -- calculating if something is divisible\n",
    "# Definition of an even number is if you can divide the number by two evenly\n",
    "print()\n",
    "print(2 % 2)\n",
    "print(3 % 2)\n",
    "print(4 % 2)\n",
    "print(5 % 2)\n",
    "print(6 % 2)\n",
    "print(1023045 % 2)\n",
    "\n",
    "print(1023050 % 7)"
   ]
  },
  {
   "cell_type": "markdown",
   "metadata": {},
   "source": [
    "## Input\n",
    "### How do we get input from a user?"
   ]
  },
  {
   "cell_type": "code",
   "execution_count": 47,
   "metadata": {},
   "outputs": [
    {
     "name": "stdout",
     "output_type": "stream",
     "text": [
      "What's your name?\n"
     ]
    },
    {
     "name": "stdin",
     "output_type": "stream",
     "text": [
      " Candice\n"
     ]
    },
    {
     "name": "stdout",
     "output_type": "stream",
     "text": [
      "Hello, Candice!\n",
      "Nice to meet you\n"
     ]
    }
   ],
   "source": [
    "# Use the input() function\n",
    "print(\"What's your name?\")\n",
    "user_name = input()\n",
    "print(f\"Hello, {user_name}!\")\n",
    "print(\"Nice to meet you\")"
   ]
  },
  {
   "cell_type": "markdown",
   "metadata": {},
   "source": [
    "---\n",
    "---\n",
    "# Practice\n",
    "Take some time to work through the examples below for practice."
   ]
  },
  {
   "cell_type": "markdown",
   "metadata": {},
   "source": [
    "## Fahrenheit to Celsius\n",
    "Create a program that asks the user for a temperature in Fahrenheit, and then prints the temperature in Celsius.\n",
    "\n",
    "The formula for conversion is:  \n",
    "`C = (F − 32) × 5/9 `"
   ]
  },
  {
   "cell_type": "code",
   "execution_count": 15,
   "metadata": {},
   "outputs": [
    {
     "name": "stdout",
     "output_type": "stream",
     "text": [
      "What's the temperature in Fahrenheit that you want to convert to Celsius?\n"
     ]
    },
    {
     "name": "stdin",
     "output_type": "stream",
     "text": [
      " 10\n"
     ]
    },
    {
     "name": "stdout",
     "output_type": "stream",
     "text": [
      "10.0. F is -12.222222222222221 C.\n"
     ]
    }
   ],
   "source": [
    "print(\"What's the temperature in Fahrenheit that you want to convert to Celsius?\")\n",
    "temp_f = float(input())\n",
    "degrees_celsius = (temp_f -32) * 5 / 9\n",
    "print(f\"{temp_f}. F is {degrees_celsius} C.\")"
   ]
  },
  {
   "cell_type": "markdown",
   "metadata": {},
   "source": [
    "## Radius of Circle\n",
    "\n",
    "Create a program that takes the radius of a circle and calculates its area.\n",
    "\n",
    "The formula to calculate the area is:  \n",
    "`A = pi * r ^ 2`  \n",
    "\n",
    "Note:  \n",
    "In order to use pi, **import the math module**.  \n",
    "It has the constant, pi, that you can use.\n",
    "You can use it by using `math.pi`."
   ]
  },
  {
   "cell_type": "code",
   "execution_count": 9,
   "metadata": {},
   "outputs": [
    {
     "name": "stdout",
     "output_type": "stream",
     "text": [
      "What is the radius of your circle?\n"
     ]
    },
    {
     "name": "stdin",
     "output_type": "stream",
     "text": [
      " 10\n"
     ]
    },
    {
     "name": "stdout",
     "output_type": "stream",
     "text": [
      "The area of your circle:\n",
      "314.1592653589793\n"
     ]
    }
   ],
   "source": [
    "print(\"What is the radius of your circle?\")\n",
    "radius = input()\n",
    "r = radius\n",
    "import math\n",
    "print(\"The area of your circle:\")\n",
    "print(math.pi * (int(r) ** 2))"
   ]
  },
  {
   "cell_type": "markdown",
   "metadata": {},
   "source": [
    "## Compound Interest\n",
    "\n",
    "![Compound Interest](http://www.ourpursuitofperfection.com/wp-content/uploads/2017/06/compound-interest-formula-diagram.png)\n",
    "\n",
    "Write a Python program that has a **principal amount of 15000**, **compounds monthly** (n = 12), and has an **interest rate of 8%** (0.08). Then have the program ask the user for the number of years, t. Calculate and print the final amount after t years."
   ]
  },
  {
   "cell_type": "code",
   "execution_count": 33,
   "metadata": {},
   "outputs": [
    {
     "name": "stdout",
     "output_type": "stream",
     "text": [
      "Please enter the amount of years\n"
     ]
    },
    {
     "name": "stdin",
     "output_type": "stream",
     "text": [
      " 10\n"
     ]
    },
    {
     "name": "stdout",
     "output_type": "stream",
     "text": [
      "33294.60351817066\n"
     ]
    }
   ],
   "source": [
    "print(\"Please enter the amount of years\")\n",
    "time_in_years = input()\n",
    "t = time_in_years\n",
    "print(15000 * (1 + (0.08 / 12)) ** (12 * int(t)))"
   ]
  },
  {
   "cell_type": "markdown",
   "metadata": {
    "tags": []
   },
   "source": [
    "## Evaluating Expressions\n",
    "\n",
    "Evaluate the following expressions in your head. Use the code cell below to see if you're correct.\n",
    "\n",
    "    5 ** 2\n",
    "\n",
    "    9 * 5\n",
    "\n",
    "    15 / 12\n",
    "\n",
    "    12 / 15\n",
    "\n",
    "    15 // 12\n",
    "\n",
    "    12 // 15\n",
    "\n",
    "    5 % 2\n",
    "\n",
    "    9 % 5\n",
    "\n",
    "    15 % 12\n",
    "\n",
    "    12 % 15\n",
    "\n",
    "    6 % 6\n",
    "\n",
    "    0 % 7\n"
   ]
  },
  {
   "cell_type": "code",
   "execution_count": 37,
   "metadata": {},
   "outputs": [
    {
     "name": "stdout",
     "output_type": "stream",
     "text": [
      "25\n",
      "25\n",
      "\n",
      "45\n",
      "45\n",
      "\n",
      "1.25\n",
      "1.25\n",
      "\n",
      "0.8\n",
      "0.8\n",
      "\n",
      "1\n",
      "1\n",
      "\n",
      "0\n",
      "0\n",
      "\n",
      "1\n",
      "1\n",
      "\n",
      "4\n",
      "4\n",
      "\n",
      "3\n",
      "3\n",
      "\n",
      "12\n",
      "12\n",
      "\n",
      "0\n",
      "0\n",
      "\n",
      "0\n",
      "0\n"
     ]
    }
   ],
   "source": [
    "print(25)\n",
    "print(5 ** 2)  \n",
    "print()\n",
    "print(45)\n",
    "print(9 * 5)  \n",
    "print()  \n",
    "print(5 / 4)\n",
    "print(15 / 12)  \n",
    "print()    \n",
    "print(4 / 5)\n",
    "print(12 / 15)  \n",
    "print()    \n",
    "print(1)\n",
    "print(15 // 12)  \n",
    "print()    \n",
    "print(0)\n",
    "print(12 // 15)  \n",
    "print()\n",
    "print(1)\n",
    "print(5 % 2)  \n",
    "print()\n",
    "print(4)\n",
    "print(9 % 5)  \n",
    "print()    \n",
    "print(3)\n",
    "print(15 % 12)  \n",
    "print()    \n",
    "print(12)\n",
    "print(12 % 15)  \n",
    "print()    \n",
    "print(0)\n",
    "print(6 % 6)  \n",
    "print()    \n",
    "print(0)\n",
    "print(0 % 7)  "
   ]
  },
  {
   "cell_type": "markdown",
   "metadata": {},
   "source": [
    "## Order of Operations\n",
    "\n",
    "Evaluate the following expression using the proper order of operations used in Python.\n",
    "\n",
    "2 + (3 - 1) * 10 / 5 * (2 + 3)"
   ]
  },
  {
   "cell_type": "code",
   "execution_count": 5,
   "metadata": {},
   "outputs": [
    {
     "name": "stdout",
     "output_type": "stream",
     "text": [
      "22.0\n",
      "22.0\n",
      "22.0\n",
      "22.0\n",
      "22\n",
      "22\n",
      "22\n"
     ]
    }
   ],
   "source": [
    "print(2 + (3 - 1) * 10 / 5 * (2 + 3))\n",
    "print(2 + 2 * 10 / 5 * (2 + 3))\n",
    "print(2 + 2 * 10 / 5 * 5)\n",
    "print(2 + 20 / 5 * 5)\n",
    "print(2 + 4 * 5)\n",
    "print(2 + 20)\n",
    "print(22)"
   ]
  },
  {
   "cell_type": "markdown",
   "metadata": {},
   "source": [
    "## Translating Time and Alarms\n",
    "\n",
    "_Problem_: In Europe, time is generally told using the 24h clock (e.g. 11:00 is 11:00am and 23:00 is 11:00pm, 00:00 is midnight). Using this standard of time, if it is 13:00 and you set your alarm to go off in 50 hours, it will be 15:00 (3:00pm).\n",
    "\n",
    "Write a Python program in the code cell below to solve the general version of the above problem.  \n",
    "Ask the user for the time now (in hours), and then ask for the number of hours to wait for the alarm.  \n",
    "Your program should output what the time will be on the clock when the alarm goes off."
   ]
  },
  {
   "cell_type": "code",
   "execution_count": 36,
   "metadata": {},
   "outputs": [
    {
     "name": "stdout",
     "output_type": "stream",
     "text": [
      "What time is it now?\n"
     ]
    },
    {
     "name": "stdin",
     "output_type": "stream",
     "text": [
      " 13\n"
     ]
    },
    {
     "name": "stdout",
     "output_type": "stream",
     "text": [
      "How long do you want to set your alarm (in hours)?\n"
     ]
    },
    {
     "name": "stdin",
     "output_type": "stream",
     "text": [
      " 50\n"
     ]
    },
    {
     "name": "stdout",
     "output_type": "stream",
     "text": [
      "15:00\n"
     ]
    }
   ],
   "source": [
    "print(\"What time is it now?\")\n",
    "current_time_in_hours = input()\n",
    "\n",
    "print(\"How long do you want to set your alarm (in hours)?\")\n",
    "how_many_hours_until_alarm = input()\n",
    "\n",
    "answer = int(current_time_in_hours) + int(how_many_hours_until_alarm)\n",
    "\n",
    "time_when_alarm_goes_off = int(answer) % 24\n",
    "\n",
    "print(f\"{time_when_alarm_goes_off}:00\")\n"
   ]
  },
  {
   "cell_type": "code",
   "execution_count": null,
   "metadata": {},
   "outputs": [],
   "source": []
  }
 ],
 "metadata": {
  "kernelspec": {
   "display_name": "Python 3 (ipykernel)",
   "language": "python",
   "name": "python3"
  },
  "language_info": {
   "codemirror_mode": {
    "name": "ipython",
    "version": 3
   },
   "file_extension": ".py",
   "mimetype": "text/x-python",
   "name": "python",
   "nbconvert_exporter": "python",
   "pygments_lexer": "ipython3",
   "version": "3.8.9"
  }
 },
 "nbformat": 4,
 "nbformat_minor": 4
}
